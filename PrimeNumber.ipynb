{
  "nbformat": 4,
  "nbformat_minor": 0,
  "metadata": {
    "colab": {
      "name": "PrimeNumber.ipynb",
      "provenance": [],
      "collapsed_sections": [],
      "authorship_tag": "ABX9TyMm8PlclcjQEpoTmRGxU0sR"
    },
    "kernelspec": {
      "name": "python3",
      "display_name": "Python 3"
    },
    "language_info": {
      "name": "python"
    }
  },
  "cells": [
    {
      "cell_type": "markdown",
      "metadata": {
        "id": "y_HgaTMjW-OX"
      },
      "source": [
        "Task : Write a program that takes a number from the user and prints the result to check if it is a prime number."
      ]
    },
    {
      "cell_type": "code",
      "metadata": {
        "colab": {
          "base_uri": "https://localhost:8080/"
        },
        "id": "jr1_7qmEvkVq",
        "outputId": "4b3c31a9-d1cc-4d59-e9d0-e5364effa04e"
      },
      "source": [
        "number = int(input(\"Please enter a number greater than one: \"))\n",
        "\n",
        "for i in range(2, number):\n",
        "  if number % i == 0:\n",
        "    print(\"{} is not a prime number\".format(number))\n",
        "    break\n",
        "\n",
        "else:\n",
        "  print(\"{} is a prime number\".format(number)) "
      ],
      "execution_count": null,
      "outputs": [
        {
          "output_type": "stream",
          "name": "stdout",
          "text": [
            "Please enter a number greater than one: 100\n",
            "100 is not a prime number\n"
          ]
        }
      ]
    },
    {
      "cell_type": "code",
      "source": [
        ""
      ],
      "metadata": {
        "id": "O9TGfVEj5svz"
      },
      "execution_count": null,
      "outputs": []
    },
    {
      "cell_type": "code",
      "source": [
        "prime_number = []\n",
        "for n in range(2,101):\n",
        "    prime = True\n",
        "    for i in range(2,n):\n",
        "        if (n==0) or (n==1) or (n%i==0):\n",
        "            prime = False\n",
        "    if prime:\n",
        "       prime_number.append(n)\n",
        "print (prime_number)"
      ],
      "metadata": {
        "colab": {
          "base_uri": "https://localhost:8080/"
        },
        "id": "VzOR5sBX5ssN",
        "outputId": "83582467-0226-4894-8a56-36c3e05028f7"
      },
      "execution_count": null,
      "outputs": [
        {
          "output_type": "stream",
          "name": "stdout",
          "text": [
            "[2, 3, 5, 7, 11, 13, 17, 19, 23, 29, 31, 37, 41, 43, 47, 53, 59, 61, 67, 71, 73, 79, 83, 89, 97]\n"
          ]
        }
      ]
    },
    {
      "cell_type": "code",
      "source": [
        ""
      ],
      "metadata": {
        "id": "qKGSKmlp5sVy"
      },
      "execution_count": null,
      "outputs": []
    }
  ]
}