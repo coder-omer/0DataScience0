{
  "nbformat": 4,
  "nbformat_minor": 0,
  "metadata": {
    "colab": {
      "name": "tw1412.ipynb",
      "provenance": [],
      "authorship_tag": "ABX9TyPBofoBRrDjgBuRg8BQ4pH4",
      "include_colab_link": true
    },
    "kernelspec": {
      "name": "python3",
      "display_name": "Python 3"
    },
    "language_info": {
      "name": "python"
    }
  },
  "cells": [
    {
      "cell_type": "markdown",
      "metadata": {
        "id": "view-in-github",
        "colab_type": "text"
      },
      "source": [
        "<a href=\"https://colab.research.google.com/github/coder-omer/0DataScience0/blob/main/tw1412.ipynb\" target=\"_parent\"><img src=\"https://colab.research.google.com/assets/colab-badge.svg\" alt=\"Open In Colab\"/></a>"
      ]
    },
    {
      "cell_type": "code",
      "execution_count": null,
      "metadata": {
        "colab": {
          "base_uri": "https://localhost:8080/"
        },
        "id": "obfKjoWppCYg",
        "outputId": "d69725ac-487a-447e-a794-54d2a3246d70"
      },
      "outputs": [
        {
          "output_type": "stream",
          "name": "stdout",
          "text": [
            "0\n",
            "3102\n"
          ]
        }
      ],
      "source": [
        "num = 2013\n",
        "reversed_num = 0 \n",
        "while num != 0:\n",
        "  digit = num % 10\n",
        "  reversed_num = reversed_num * 10 + digit \n",
        "  num //= 10\n",
        "print(num)\n",
        "print(reversed_num)"
      ]
    },
    {
      "cell_type": "code",
      "source": [
        "2103 % 10"
      ],
      "metadata": {
        "colab": {
          "base_uri": "https://localhost:8080/"
        },
        "id": "mssVDreIpDex",
        "outputId": "7233ebcb-e2da-4852-a7c8-fb98c9d9dcf9"
      },
      "execution_count": null,
      "outputs": [
        {
          "output_type": "execute_result",
          "data": {
            "text/plain": [
              "3"
            ]
          },
          "metadata": {},
          "execution_count": 4
        }
      ]
    },
    {
      "cell_type": "code",
      "source": [
        "2103 //= 10"
      ],
      "metadata": {
        "colab": {
          "base_uri": "https://localhost:8080/",
          "height": 130
        },
        "id": "zrLf3LrEpDnt",
        "outputId": "c58a67f2-b3a9-44a0-ed27-9473ce42d56d"
      },
      "execution_count": null,
      "outputs": [
        {
          "output_type": "error",
          "ename": "SyntaxError",
          "evalue": "ignored",
          "traceback": [
            "\u001b[0;36m  File \u001b[0;32m\"<ipython-input-6-c228a592c94f>\"\u001b[0;36m, line \u001b[0;32m1\u001b[0m\n\u001b[0;31m    2103 //= 10\u001b[0m\n\u001b[0m               ^\u001b[0m\n\u001b[0;31mSyntaxError\u001b[0m\u001b[0;31m:\u001b[0m can't assign to literal\n"
          ]
        }
      ]
    },
    {
      "cell_type": "code",
      "source": [
        "num=2\n",
        "num //= 10\n",
        "print(num)"
      ],
      "metadata": {
        "id": "_12MjskxpDq-",
        "colab": {
          "base_uri": "https://localhost:8080/"
        },
        "outputId": "29fe0d08-a98a-4b55-aa9d-25b90fc19bb3"
      },
      "execution_count": null,
      "outputs": [
        {
          "output_type": "stream",
          "name": "stdout",
          "text": [
            "0\n"
          ]
        }
      ]
    },
    {
      "cell_type": "code",
      "source": [
        "2%10"
      ],
      "metadata": {
        "id": "uDe4qGAupDuD",
        "colab": {
          "base_uri": "https://localhost:8080/"
        },
        "outputId": "aefd3b22-82cf-4876-e138-532bfac38d34"
      },
      "execution_count": null,
      "outputs": [
        {
          "output_type": "execute_result",
          "data": {
            "text/plain": [
              "2"
            ]
          },
          "metadata": {},
          "execution_count": 15
        }
      ]
    },
    {
      "cell_type": "code",
      "source": [
        "print(bool(20%2))"
      ],
      "metadata": {
        "id": "4FHOOkLjpDw4",
        "colab": {
          "base_uri": "https://localhost:8080/"
        },
        "outputId": "278d4b27-ed62-4415-8330-d7cf2ffd8419"
      },
      "execution_count": null,
      "outputs": [
        {
          "output_type": "stream",
          "name": "stdout",
          "text": [
            "False\n"
          ]
        }
      ]
    },
    {
      "cell_type": "code",
      "source": [
        "f=lambda x:bool(x%2) \n",
        "print(f(20), f(21))"
      ],
      "metadata": {
        "colab": {
          "base_uri": "https://localhost:8080/"
        },
        "id": "pwpjHrvfnUhp",
        "outputId": "c209c6a1-be6d-442d-8c3d-62bf25053e86"
      },
      "execution_count": null,
      "outputs": [
        {
          "output_type": "stream",
          "name": "stdout",
          "text": [
            "False True\n"
          ]
        }
      ]
    },
    {
      "cell_type": "code",
      "source": [
        "def my_min(*numbers):\n",
        "  return min(numbers)\n",
        "\n",
        "print(my_min(-100))"
      ],
      "metadata": {
        "colab": {
          "base_uri": "https://localhost:8080/"
        },
        "id": "81nAHLFXn_uD",
        "outputId": "85b037c1-fb24-4fad-9f5a-dc903d5f4fcc"
      },
      "execution_count": null,
      "outputs": [
        {
          "output_type": "stream",
          "name": "stdout",
          "text": [
            "-100\n"
          ]
        }
      ]
    },
    {
      "cell_type": "code",
      "source": [
        ""
      ],
      "metadata": {
        "id": "O5qYsRphn_jD"
      },
      "execution_count": null,
      "outputs": []
    }
  ]
}