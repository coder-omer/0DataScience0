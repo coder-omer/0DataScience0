{
  "cells": [
    {
      "cell_type": "markdown",
      "metadata": {
        "id": "view-in-github",
        "colab_type": "text"
      },
      "source": [
        "<a href=\"https://colab.research.google.com/github/coder-omer/0DataScience0/blob/main/ch02.ipynb\" target=\"_parent\"><img src=\"https://colab.research.google.com/assets/colab-badge.svg\" alt=\"Open In Colab\"/></a>"
      ]
    },
    {
      "cell_type": "markdown",
      "metadata": {
        "id": "Sz-5k7UhIeuB"
      },
      "source": [
        "# Introductory examples"
      ]
    },
    {
      "cell_type": "markdown",
      "metadata": {
        "id": "R0ZSbLFoIeuI"
      },
      "source": [
        "## 1.usa.gov data from bit.ly"
      ]
    },
    {
      "cell_type": "code",
      "execution_count": null,
      "metadata": {
        "id": "ObEqpcQ-IeuJ"
      },
      "outputs": [],
      "source": [
        "%pwd"
      ]
    },
    {
      "cell_type": "code",
      "execution_count": null,
      "metadata": {
        "id": "WDEQvQzWIeuL"
      },
      "outputs": [],
      "source": [
        "path = 'ch02/usagov_bitly_data2012-03-16-1331923249.txt'"
      ]
    },
    {
      "cell_type": "code",
      "execution_count": null,
      "metadata": {
        "id": "svGrH_O5IeuM"
      },
      "outputs": [],
      "source": [
        "open(path).readline()"
      ]
    },
    {
      "cell_type": "code",
      "execution_count": null,
      "metadata": {
        "id": "jx1Ub05SIeuN"
      },
      "outputs": [],
      "source": [
        "import json\n",
        "path = 'ch02/usagov_bitly_data2012-03-16-1331923249.txt'\n",
        "records = [json.loads(line) for line in open(path)]"
      ]
    },
    {
      "cell_type": "code",
      "execution_count": null,
      "metadata": {
        "id": "O8XcgcXDIeuO"
      },
      "outputs": [],
      "source": [
        "records[0]"
      ]
    },
    {
      "cell_type": "code",
      "execution_count": null,
      "metadata": {
        "id": "4H7mSeHTIeuP"
      },
      "outputs": [],
      "source": [
        "records[0]['tz']"
      ]
    },
    {
      "cell_type": "code",
      "execution_count": null,
      "metadata": {
        "id": "t-Lm65O6IeuQ"
      },
      "outputs": [],
      "source": [
        "print(records[0]['tz'])"
      ]
    },
    {
      "cell_type": "markdown",
      "metadata": {
        "id": "r48TLqcqIeuR"
      },
      "source": [
        "### Counting time zones in pure Python"
      ]
    },
    {
      "cell_type": "code",
      "execution_count": null,
      "metadata": {
        "id": "_TLp52l3IeuR"
      },
      "outputs": [],
      "source": [
        "time_zones = [rec['tz'] for rec in records]"
      ]
    },
    {
      "cell_type": "code",
      "execution_count": null,
      "metadata": {
        "id": "5MjrL5RBIeuS"
      },
      "outputs": [],
      "source": [
        "time_zones = [rec['tz'] for rec in records if 'tz' in rec]"
      ]
    },
    {
      "cell_type": "code",
      "execution_count": null,
      "metadata": {
        "id": "l8mh8lhKIeuT"
      },
      "outputs": [],
      "source": [
        "time_zones[:10]"
      ]
    },
    {
      "cell_type": "code",
      "execution_count": null,
      "metadata": {
        "id": "qepOKC3yIeuT"
      },
      "outputs": [],
      "source": [
        "def get_counts(sequence):\n",
        "    counts = {}\n",
        "    for x in sequence:\n",
        "        if x in counts:\n",
        "            counts[x] += 1\n",
        "        else:\n",
        "            counts[x] = 1\n",
        "    return counts"
      ]
    },
    {
      "cell_type": "code",
      "execution_count": null,
      "metadata": {
        "id": "qSldyccOIeuU"
      },
      "outputs": [],
      "source": [
        "from collections import defaultdict\n",
        "\n",
        "def get_counts2(sequence):\n",
        "    counts = defaultdict(int) # values will initialize to 0\n",
        "    for x in sequence:\n",
        "        counts[x] += 1\n",
        "    return counts"
      ]
    },
    {
      "cell_type": "code",
      "execution_count": null,
      "metadata": {
        "id": "qvoqzaQfIeuU"
      },
      "outputs": [],
      "source": [
        "counts = get_counts(time_zones)"
      ]
    },
    {
      "cell_type": "code",
      "execution_count": null,
      "metadata": {
        "id": "pWdR55IxIeuU"
      },
      "outputs": [],
      "source": [
        "counts['America/New_York']"
      ]
    },
    {
      "cell_type": "code",
      "execution_count": null,
      "metadata": {
        "id": "plHt6qHMIeuV"
      },
      "outputs": [],
      "source": [
        "len(time_zones)"
      ]
    },
    {
      "cell_type": "code",
      "execution_count": null,
      "metadata": {
        "id": "pry8oVUHIeuV"
      },
      "outputs": [],
      "source": [
        "def top_counts(count_dict, n=10):\n",
        "    value_key_pairs = [(count, tz) for tz, count in count_dict.items()]\n",
        "    value_key_pairs.sort()\n",
        "    return value_key_pairs[-n:]"
      ]
    },
    {
      "cell_type": "code",
      "execution_count": null,
      "metadata": {
        "id": "-cI22geoIeuW"
      },
      "outputs": [],
      "source": [
        "top_counts(counts)"
      ]
    },
    {
      "cell_type": "code",
      "execution_count": null,
      "metadata": {
        "id": "1SUS0VOFIeuW"
      },
      "outputs": [],
      "source": [
        "from collections import Counter"
      ]
    },
    {
      "cell_type": "code",
      "execution_count": null,
      "metadata": {
        "id": "1MLoAR2NIeuX"
      },
      "outputs": [],
      "source": [
        "counts = Counter(time_zones)"
      ]
    },
    {
      "cell_type": "code",
      "execution_count": null,
      "metadata": {
        "id": "QvKtIHuvIeuX"
      },
      "outputs": [],
      "source": [
        "counts.most_common(10)"
      ]
    },
    {
      "cell_type": "markdown",
      "metadata": {
        "id": "NYI6EgA6IeuX"
      },
      "source": [
        "### Counting time zones with pandas"
      ]
    },
    {
      "cell_type": "code",
      "execution_count": null,
      "metadata": {
        "id": "QdATQJwoIeuY"
      },
      "outputs": [],
      "source": [
        "%matplotlib inline"
      ]
    },
    {
      "cell_type": "code",
      "execution_count": null,
      "metadata": {
        "id": "15XBDK0YIeuY"
      },
      "outputs": [],
      "source": [
        "from __future__ import division\n",
        "from numpy.random import randn\n",
        "import numpy as np\n",
        "import os\n",
        "import matplotlib.pyplot as plt\n",
        "import pandas as pd\n",
        "plt.rc('figure', figsize=(10, 6))\n",
        "np.set_printoptions(precision=4)"
      ]
    },
    {
      "cell_type": "code",
      "execution_count": null,
      "metadata": {
        "id": "H1A5XlViIeuY"
      },
      "outputs": [],
      "source": [
        "import json\n",
        "path = 'ch02/usagov_bitly_data2012-03-16-1331923249.txt'\n",
        "lines = open(path).readlines()\n",
        "records = [json.loads(line) for line in lines]"
      ]
    },
    {
      "cell_type": "code",
      "execution_count": null,
      "metadata": {
        "id": "ASNYAYahIeuZ"
      },
      "outputs": [],
      "source": [
        "from pandas import DataFrame, Series\n",
        "import pandas as pd\n",
        "\n",
        "frame = DataFrame(records)\n",
        "frame"
      ]
    },
    {
      "cell_type": "code",
      "execution_count": null,
      "metadata": {
        "id": "67YFigHzIeuZ"
      },
      "outputs": [],
      "source": [
        "frame['tz'][:10]"
      ]
    },
    {
      "cell_type": "code",
      "execution_count": null,
      "metadata": {
        "id": "cIK28r_pIeua"
      },
      "outputs": [],
      "source": [
        "tz_counts = frame['tz'].value_counts()\n",
        "tz_counts[:10]"
      ]
    },
    {
      "cell_type": "code",
      "execution_count": null,
      "metadata": {
        "id": "kDyVAoY0Ieua"
      },
      "outputs": [],
      "source": [
        "clean_tz = frame['tz'].fillna('Missing')\n",
        "clean_tz[clean_tz == ''] = 'Unknown'\n",
        "tz_counts = clean_tz.value_counts()\n",
        "tz_counts[:10]"
      ]
    },
    {
      "cell_type": "code",
      "execution_count": null,
      "metadata": {
        "id": "mZ7urg_mIeua"
      },
      "outputs": [],
      "source": [
        "plt.figure(figsize=(10, 4))"
      ]
    },
    {
      "cell_type": "code",
      "execution_count": null,
      "metadata": {
        "id": "veUWVo1-Ieua"
      },
      "outputs": [],
      "source": [
        "tz_counts[:10].plot(kind='barh', rot=0)"
      ]
    },
    {
      "cell_type": "code",
      "execution_count": null,
      "metadata": {
        "id": "YgFqe_41Ieub"
      },
      "outputs": [],
      "source": [
        "frame['a'][1]"
      ]
    },
    {
      "cell_type": "code",
      "execution_count": null,
      "metadata": {
        "id": "02BGduIwIeub"
      },
      "outputs": [],
      "source": [
        "frame['a'][50]"
      ]
    },
    {
      "cell_type": "code",
      "execution_count": null,
      "metadata": {
        "id": "-QA966sxIeub"
      },
      "outputs": [],
      "source": [
        "frame['a'][51]"
      ]
    },
    {
      "cell_type": "code",
      "execution_count": null,
      "metadata": {
        "id": "V5NhJ2ymIeuc"
      },
      "outputs": [],
      "source": [
        "results = Series([x.split()[0] for x in frame.a.dropna()])\n",
        "results[:5]"
      ]
    },
    {
      "cell_type": "code",
      "execution_count": null,
      "metadata": {
        "id": "HzY8YvWsIeuc"
      },
      "outputs": [],
      "source": [
        "results.value_counts()[:8]"
      ]
    },
    {
      "cell_type": "code",
      "execution_count": null,
      "metadata": {
        "id": "nTxKgMY1Ieuc"
      },
      "outputs": [],
      "source": [
        "cframe = frame[frame.a.notnull()]"
      ]
    },
    {
      "cell_type": "code",
      "execution_count": null,
      "metadata": {
        "id": "xnBNaJU8Ieuc"
      },
      "outputs": [],
      "source": [
        "operating_system = np.where(cframe['a'].str.contains('Windows'),\n",
        "                            'Windows', 'Not Windows')\n",
        "operating_system[:5]"
      ]
    },
    {
      "cell_type": "code",
      "execution_count": null,
      "metadata": {
        "id": "IMPvzGy7Ieud"
      },
      "outputs": [],
      "source": [
        "by_tz_os = cframe.groupby(['tz', operating_system])"
      ]
    },
    {
      "cell_type": "code",
      "execution_count": null,
      "metadata": {
        "id": "RgVwOfE5Ieud"
      },
      "outputs": [],
      "source": [
        "agg_counts = by_tz_os.size().unstack().fillna(0)\n",
        "agg_counts[:10]"
      ]
    },
    {
      "cell_type": "code",
      "execution_count": null,
      "metadata": {
        "id": "2OlcfEwAIeud"
      },
      "outputs": [],
      "source": [
        "# Use to sort in ascending order\n",
        "indexer = agg_counts.sum(1).argsort()\n",
        "indexer[:10]"
      ]
    },
    {
      "cell_type": "code",
      "execution_count": null,
      "metadata": {
        "id": "knfu6EBpIeud"
      },
      "outputs": [],
      "source": [
        "count_subset = agg_counts.take(indexer)[-10:]\n",
        "count_subset"
      ]
    },
    {
      "cell_type": "code",
      "execution_count": null,
      "metadata": {
        "id": "DahOs0OSIeue"
      },
      "outputs": [],
      "source": [
        "plt.figure()"
      ]
    },
    {
      "cell_type": "code",
      "execution_count": null,
      "metadata": {
        "id": "CZjyPMxjIeue"
      },
      "outputs": [],
      "source": [
        "count_subset.plot(kind='barh', stacked=True)"
      ]
    },
    {
      "cell_type": "code",
      "execution_count": null,
      "metadata": {
        "id": "S9wy3D_aIeue"
      },
      "outputs": [],
      "source": [
        "plt.figure()"
      ]
    },
    {
      "cell_type": "code",
      "execution_count": null,
      "metadata": {
        "id": "IZx_dk1NIeue"
      },
      "outputs": [],
      "source": [
        "normed_subset = count_subset.div(count_subset.sum(1), axis=0)\n",
        "normed_subset.plot(kind='barh', stacked=True)"
      ]
    },
    {
      "cell_type": "markdown",
      "metadata": {
        "id": "BoY6qZknIeuf"
      },
      "source": [
        "## MovieLens 1M data set"
      ]
    },
    {
      "cell_type": "code",
      "execution_count": null,
      "metadata": {
        "id": "wrgwEek6Ieuf"
      },
      "outputs": [],
      "source": [
        "import pandas as pd\n",
        "import os\n",
        "encoding = 'latin1'\n",
        "\n",
        "upath = os.path.expanduser('ch02/movielens/users.dat')\n",
        "rpath = os.path.expanduser('ch02/movielens/ratings.dat')\n",
        "mpath = os.path.expanduser('ch02/movielens/movies.dat')\n",
        "\n",
        "unames = ['user_id', 'gender', 'age', 'occupation', 'zip']\n",
        "rnames = ['user_id', 'movie_id', 'rating', 'timestamp']\n",
        "mnames = ['movie_id', 'title', 'genres']\n",
        "\n",
        "users = pd.read_csv(upath, sep='::', header=None, names=unames, encoding=encoding)\n",
        "ratings = pd.read_csv(rpath, sep='::', header=None, names=rnames, encoding=encoding)\n",
        "movies = pd.read_csv(mpath, sep='::', header=None, names=mnames, encoding=encoding)"
      ]
    },
    {
      "cell_type": "code",
      "execution_count": null,
      "metadata": {
        "id": "u7HAQkTeIeuf"
      },
      "outputs": [],
      "source": [
        "users[:5]"
      ]
    },
    {
      "cell_type": "code",
      "execution_count": null,
      "metadata": {
        "id": "9Mtm1g-cIeuf"
      },
      "outputs": [],
      "source": [
        "ratings[:5]"
      ]
    },
    {
      "cell_type": "code",
      "execution_count": null,
      "metadata": {
        "id": "AZnxVz_IIeug"
      },
      "outputs": [],
      "source": [
        "movies[:5]"
      ]
    },
    {
      "cell_type": "code",
      "execution_count": null,
      "metadata": {
        "id": "_xdU0s2EIeug"
      },
      "outputs": [],
      "source": [
        "ratings"
      ]
    },
    {
      "cell_type": "code",
      "execution_count": null,
      "metadata": {
        "id": "xlZuN_sQIeug"
      },
      "outputs": [],
      "source": [
        "data = pd.merge(pd.merge(ratings, users), movies)\n",
        "data"
      ]
    },
    {
      "cell_type": "code",
      "execution_count": null,
      "metadata": {
        "id": "V5aZO0qyIeug"
      },
      "outputs": [],
      "source": [
        "data.ix[0]"
      ]
    },
    {
      "cell_type": "code",
      "execution_count": null,
      "metadata": {
        "id": "LElJe9HLIeuh"
      },
      "outputs": [],
      "source": [
        "mean_ratings = data.pivot_table('rating', index='title',\n",
        "                                columns='gender', aggfunc='mean')\n",
        "mean_ratings[:5]"
      ]
    },
    {
      "cell_type": "code",
      "execution_count": null,
      "metadata": {
        "id": "5_uaCgeHIeuh"
      },
      "outputs": [],
      "source": [
        "ratings_by_title = data.groupby('title').size()"
      ]
    },
    {
      "cell_type": "code",
      "execution_count": null,
      "metadata": {
        "id": "D0y6zQGiIeuh"
      },
      "outputs": [],
      "source": [
        "ratings_by_title[:5]"
      ]
    },
    {
      "cell_type": "code",
      "execution_count": null,
      "metadata": {
        "collapsed": true,
        "id": "qDMXs715Ieui"
      },
      "outputs": [],
      "source": [
        "active_titles = ratings_by_title.index[ratings_by_title >= 250]"
      ]
    },
    {
      "cell_type": "code",
      "execution_count": null,
      "metadata": {
        "id": "zn0HTfkOIeui"
      },
      "outputs": [],
      "source": [
        "active_titles[:10]"
      ]
    },
    {
      "cell_type": "code",
      "execution_count": null,
      "metadata": {
        "id": "kn1_taFdIeui"
      },
      "outputs": [],
      "source": [
        "mean_ratings = mean_ratings.ix[active_titles]\n",
        "mean_ratings"
      ]
    },
    {
      "cell_type": "code",
      "execution_count": null,
      "metadata": {
        "id": "Z2S-7cTDIeui"
      },
      "outputs": [],
      "source": [
        "mean_ratings = mean_ratings.rename(index={'Seven Samurai (The Magnificent Seven) (Shichinin no samurai) (1954)':\n",
        "                           'Seven Samurai (Shichinin no samurai) (1954)'})"
      ]
    },
    {
      "cell_type": "code",
      "execution_count": null,
      "metadata": {
        "id": "vnSxG8xRIeui"
      },
      "outputs": [],
      "source": [
        "top_female_ratings = mean_ratings.sort_index(by='F', ascending=False)\n",
        "top_female_ratings[:10]"
      ]
    },
    {
      "cell_type": "markdown",
      "metadata": {
        "id": "P7jX6UImIeuj"
      },
      "source": [
        "### Measuring rating disagreement"
      ]
    },
    {
      "cell_type": "code",
      "execution_count": null,
      "metadata": {
        "id": "WbrRicY1Ieuj"
      },
      "outputs": [],
      "source": [
        "mean_ratings['diff'] = mean_ratings['M'] - mean_ratings['F']"
      ]
    },
    {
      "cell_type": "code",
      "execution_count": null,
      "metadata": {
        "id": "Vdfn8BnRIeuj"
      },
      "outputs": [],
      "source": [
        "sorted_by_diff = mean_ratings.sort_index(by='diff')\n",
        "sorted_by_diff[:15]"
      ]
    },
    {
      "cell_type": "code",
      "execution_count": null,
      "metadata": {
        "id": "qNm-40ZtIeuj"
      },
      "outputs": [],
      "source": [
        "# Reverse order of rows, take first 15 rows\n",
        "sorted_by_diff[::-1][:15]"
      ]
    },
    {
      "cell_type": "code",
      "execution_count": null,
      "metadata": {
        "id": "gwsm1xg9Ieuk"
      },
      "outputs": [],
      "source": [
        "# Standard deviation of rating grouped by title\n",
        "rating_std_by_title = data.groupby('title')['rating'].std()\n",
        "# Filter down to active_titles\n",
        "rating_std_by_title = rating_std_by_title.ix[active_titles]\n",
        "# Order Series by value in descending order\n",
        "rating_std_by_title.order(ascending=False)[:10]"
      ]
    },
    {
      "cell_type": "markdown",
      "metadata": {
        "id": "udONH-QAIeuk"
      },
      "source": [
        "### US Baby Names 1880-2010"
      ]
    },
    {
      "cell_type": "code",
      "execution_count": null,
      "metadata": {
        "id": "CZvWe9qOIeuk"
      },
      "outputs": [],
      "source": [
        "from __future__ import division\n",
        "from numpy.random import randn\n",
        "import numpy as np\n",
        "import matplotlib.pyplot as plt\n",
        "plt.rc('figure', figsize=(12, 5))\n",
        "np.set_printoptions(precision=4)\n",
        "%pwd"
      ]
    },
    {
      "cell_type": "markdown",
      "metadata": {
        "id": "yumoEA8qIeuk"
      },
      "source": [
        "http://www.ssa.gov/oact/babynames/limits.html"
      ]
    },
    {
      "cell_type": "code",
      "execution_count": null,
      "metadata": {
        "id": "xIK02ibgIeuk"
      },
      "outputs": [],
      "source": [
        "!head -n 10 ch02/names/yob1880.txt"
      ]
    },
    {
      "cell_type": "code",
      "execution_count": null,
      "metadata": {
        "id": "Olj2UfCGIeul"
      },
      "outputs": [],
      "source": [
        "import pandas as pd\n",
        "names1880 = pd.read_csv('ch02/names/yob1880.txt', names=['name', 'sex', 'births'])\n",
        "names1880"
      ]
    },
    {
      "cell_type": "code",
      "execution_count": null,
      "metadata": {
        "id": "PdZx6RTUIeul"
      },
      "outputs": [],
      "source": [
        "names1880.groupby('sex').births.sum()"
      ]
    },
    {
      "cell_type": "code",
      "execution_count": null,
      "metadata": {
        "id": "4Kg-ItXCIeul"
      },
      "outputs": [],
      "source": [
        "# 2010 is the last available year right now\n",
        "years = range(1880, 2011)\n",
        "\n",
        "pieces = []\n",
        "columns = ['name', 'sex', 'births']\n",
        "\n",
        "for year in years:\n",
        "    path = 'ch02/names/yob%d.txt' % year\n",
        "    frame = pd.read_csv(path, names=columns)\n",
        "\n",
        "    frame['year'] = year\n",
        "    pieces.append(frame)\n",
        "\n",
        "# Concatenate everything into a single DataFrame\n",
        "names = pd.concat(pieces, ignore_index=True)"
      ]
    },
    {
      "cell_type": "code",
      "execution_count": null,
      "metadata": {
        "id": "5HsGkkErIeul"
      },
      "outputs": [],
      "source": [
        "total_births = names.pivot_table('births', index='year',\n",
        "                                 columns='sex', aggfunc=sum)"
      ]
    },
    {
      "cell_type": "code",
      "execution_count": null,
      "metadata": {
        "id": "FMO5bw9ZIeum"
      },
      "outputs": [],
      "source": [
        "total_births.tail()"
      ]
    },
    {
      "cell_type": "code",
      "execution_count": null,
      "metadata": {
        "id": "nr4ESwD-Ieum"
      },
      "outputs": [],
      "source": [
        "total_births.plot(title='Total births by sex and year')"
      ]
    },
    {
      "cell_type": "code",
      "execution_count": null,
      "metadata": {
        "id": "-81h4UQdIeum"
      },
      "outputs": [],
      "source": [
        "def add_prop(group):\n",
        "    # Integer division floors\n",
        "    births = group.births.astype(float)\n",
        "\n",
        "    group['prop'] = births / births.sum()\n",
        "    return group\n",
        "names = names.groupby(['year', 'sex']).apply(add_prop)"
      ]
    },
    {
      "cell_type": "code",
      "execution_count": null,
      "metadata": {
        "id": "b9It2qAVIeum"
      },
      "outputs": [],
      "source": [
        "names"
      ]
    },
    {
      "cell_type": "code",
      "execution_count": null,
      "metadata": {
        "id": "w2hM96jRIeum"
      },
      "outputs": [],
      "source": [
        "np.allclose(names.groupby(['year', 'sex']).prop.sum(), 1)"
      ]
    },
    {
      "cell_type": "code",
      "execution_count": null,
      "metadata": {
        "id": "dDjeg3QKIeun"
      },
      "outputs": [],
      "source": [
        "def get_top1000(group):\n",
        "    return group.sort_index(by='births', ascending=False)[:1000]\n",
        "grouped = names.groupby(['year', 'sex'])\n",
        "top1000 = grouped.apply(get_top1000)"
      ]
    },
    {
      "cell_type": "code",
      "execution_count": null,
      "metadata": {
        "id": "oFahAFWLIeun"
      },
      "outputs": [],
      "source": [
        "pieces = []\n",
        "for year, group in names.groupby(['year', 'sex']):\n",
        "    pieces.append(group.sort_index(by='births', ascending=False)[:1000])\n",
        "top1000 = pd.concat(pieces, ignore_index=True)"
      ]
    },
    {
      "cell_type": "code",
      "execution_count": null,
      "metadata": {
        "id": "bLN3wgB2Ieun"
      },
      "outputs": [],
      "source": [
        "top1000.index = np.arange(len(top1000))"
      ]
    },
    {
      "cell_type": "code",
      "execution_count": null,
      "metadata": {
        "id": "Nr2oMLF2Ieun"
      },
      "outputs": [],
      "source": [
        "top1000"
      ]
    },
    {
      "cell_type": "markdown",
      "metadata": {
        "id": "6bnQ1LYQIeuo"
      },
      "source": [
        "### Analyzing naming trends"
      ]
    },
    {
      "cell_type": "code",
      "execution_count": null,
      "metadata": {
        "id": "DCNhTHsHIeuo"
      },
      "outputs": [],
      "source": [
        "boys = top1000[top1000.sex == 'M']\n",
        "girls = top1000[top1000.sex == 'F']"
      ]
    },
    {
      "cell_type": "code",
      "execution_count": null,
      "metadata": {
        "id": "kFYHQa70Ieuo"
      },
      "outputs": [],
      "source": [
        "total_births = top1000.pivot_table('births', index='year', columns='name',\n",
        "                                   aggfunc=sum)\n",
        "total_births"
      ]
    },
    {
      "cell_type": "code",
      "execution_count": null,
      "metadata": {
        "id": "Pg0My6spIeuo"
      },
      "outputs": [],
      "source": [
        "subset = total_births[['John', 'Harry', 'Mary', 'Marilyn']]\n",
        "subset.plot(subplots=True, figsize=(12, 10), grid=False,\n",
        "            title=\"Number of births per year\")"
      ]
    },
    {
      "cell_type": "markdown",
      "metadata": {
        "id": "XZsu3kNuIeup"
      },
      "source": [
        "#### Measuring the increase in naming diversity"
      ]
    },
    {
      "cell_type": "code",
      "execution_count": null,
      "metadata": {
        "id": "BIc8e_PMIeup"
      },
      "outputs": [],
      "source": [
        "plt.figure()"
      ]
    },
    {
      "cell_type": "code",
      "execution_count": null,
      "metadata": {
        "id": "T6w9DI_hIeup"
      },
      "outputs": [],
      "source": [
        "table = top1000.pivot_table('prop', index='year',\n",
        "                            columns='sex', aggfunc=sum)\n",
        "table.plot(title='Sum of table1000.prop by year and sex',\n",
        "           yticks=np.linspace(0, 1.2, 13), xticks=range(1880, 2020, 10))"
      ]
    },
    {
      "cell_type": "code",
      "execution_count": null,
      "metadata": {
        "id": "fQQlnTWEIeup"
      },
      "outputs": [],
      "source": [
        "df = boys[boys.year == 2010]\n",
        "df"
      ]
    },
    {
      "cell_type": "code",
      "execution_count": null,
      "metadata": {
        "id": "IOkfsdvPIeup"
      },
      "outputs": [],
      "source": [
        "prop_cumsum = df.sort_index(by='prop', ascending=False).prop.cumsum()\n",
        "prop_cumsum[:10]"
      ]
    },
    {
      "cell_type": "code",
      "execution_count": null,
      "metadata": {
        "id": "ntFem0BJIeuq"
      },
      "outputs": [],
      "source": [
        "prop_cumsum.values.searchsorted(0.5)"
      ]
    },
    {
      "cell_type": "code",
      "execution_count": null,
      "metadata": {
        "id": "RGFNCs-PIeuq"
      },
      "outputs": [],
      "source": [
        "df = boys[boys.year == 1900]\n",
        "in1900 = df.sort_index(by='prop', ascending=False).prop.cumsum()\n",
        "in1900.values.searchsorted(0.5) + 1"
      ]
    },
    {
      "cell_type": "code",
      "execution_count": null,
      "metadata": {
        "id": "xe77GR50Ieuq"
      },
      "outputs": [],
      "source": [
        "def get_quantile_count(group, q=0.5):\n",
        "    group = group.sort_index(by='prop', ascending=False)\n",
        "    return group.prop.cumsum().values.searchsorted(q) + 1\n",
        "\n",
        "diversity = top1000.groupby(['year', 'sex']).apply(get_quantile_count)\n",
        "diversity = diversity.unstack('sex')"
      ]
    },
    {
      "cell_type": "code",
      "execution_count": null,
      "metadata": {
        "id": "uOymvR_nIeuq"
      },
      "outputs": [],
      "source": [
        "def get_quantile_count(group, q=0.5):\n",
        "    group = group.sort_index(by='prop', ascending=False)\n",
        "    return group.prop.cumsum().values.searchsorted(q) + 1\n",
        "diversity = top1000.groupby(['year', 'sex']).apply(get_quantile_count)\n",
        "diversity = diversity.unstack('sex')\n",
        "diversity.head()"
      ]
    },
    {
      "cell_type": "code",
      "execution_count": null,
      "metadata": {
        "id": "vNcKrSkaIeur"
      },
      "outputs": [],
      "source": [
        "diversity.plot(title=\"Number of popular names in top 50%\")"
      ]
    },
    {
      "cell_type": "markdown",
      "metadata": {
        "id": "9MFikmJfIeur"
      },
      "source": [
        "#### The \"Last letter\" Revolution"
      ]
    },
    {
      "cell_type": "code",
      "execution_count": null,
      "metadata": {
        "id": "4vYm7BovIeur"
      },
      "outputs": [],
      "source": [
        "# extract last letter from name column\n",
        "get_last_letter = lambda x: x[-1]\n",
        "last_letters = names.name.map(get_last_letter)\n",
        "last_letters.name = 'last_letter'\n",
        "\n",
        "table = names.pivot_table('births', index=last_letters,\n",
        "                          columns=['sex', 'year'], aggfunc=sum)"
      ]
    },
    {
      "cell_type": "code",
      "execution_count": null,
      "metadata": {
        "id": "ePAanELXIeur"
      },
      "outputs": [],
      "source": [
        "subtable = table.reindex(columns=[1910, 1960, 2010], level='year')\n",
        "subtable.head()\n"
      ]
    },
    {
      "cell_type": "code",
      "execution_count": null,
      "metadata": {
        "id": "_kXxy-MvIeus"
      },
      "outputs": [],
      "source": [
        "subtable.sum()"
      ]
    },
    {
      "cell_type": "code",
      "execution_count": null,
      "metadata": {
        "id": "4e1jehTpIeus"
      },
      "outputs": [],
      "source": [
        "letter_prop = subtable / subtable.sum().astype(float)"
      ]
    },
    {
      "cell_type": "code",
      "execution_count": null,
      "metadata": {
        "id": "XtQkFiOoIeus"
      },
      "outputs": [],
      "source": [
        "import matplotlib.pyplot as plt\n",
        "\n",
        "fig, axes = plt.subplots(2, 1, figsize=(10, 8))\n",
        "letter_prop['M'].plot(kind='bar', rot=0, ax=axes[0], title='Male')\n",
        "letter_prop['F'].plot(kind='bar', rot=0, ax=axes[1], title='Female',\n",
        "                      legend=False)"
      ]
    },
    {
      "cell_type": "code",
      "execution_count": null,
      "metadata": {
        "id": "V6fDu4WSIeus"
      },
      "outputs": [],
      "source": [
        "plt.subplots_adjust(hspace=0.25)"
      ]
    },
    {
      "cell_type": "code",
      "execution_count": null,
      "metadata": {
        "id": "CDvQzWIzIeut"
      },
      "outputs": [],
      "source": [
        "letter_prop = table / table.sum().astype(float)\n",
        "\n",
        "dny_ts = letter_prop.ix[['d', 'n', 'y'], 'M'].T\n",
        "dny_ts.head()"
      ]
    },
    {
      "cell_type": "code",
      "execution_count": null,
      "metadata": {
        "id": "JGAORwJoIeut"
      },
      "outputs": [],
      "source": [
        "plt.close('all')"
      ]
    },
    {
      "cell_type": "code",
      "execution_count": null,
      "metadata": {
        "id": "655rHU1WIeut"
      },
      "outputs": [],
      "source": [
        "dny_ts.plot()"
      ]
    },
    {
      "cell_type": "markdown",
      "metadata": {
        "id": "AbBlde6AIeut"
      },
      "source": [
        "#### Boy names that became girl names (and vice versa)"
      ]
    },
    {
      "cell_type": "code",
      "execution_count": null,
      "metadata": {
        "id": "4kPF1GULIeut"
      },
      "outputs": [],
      "source": [
        "all_names = top1000.name.unique()\n",
        "mask = np.array(['lesl' in x.lower() for x in all_names])\n",
        "lesley_like = all_names[mask]\n",
        "lesley_like"
      ]
    },
    {
      "cell_type": "code",
      "execution_count": null,
      "metadata": {
        "id": "R8iLDqd_Ieuu"
      },
      "outputs": [],
      "source": [
        "filtered = top1000[top1000.name.isin(lesley_like)]\n",
        "filtered.groupby('name').births.sum()"
      ]
    },
    {
      "cell_type": "code",
      "execution_count": null,
      "metadata": {
        "id": "Hy3XhfzbIeuu"
      },
      "outputs": [],
      "source": [
        "table = filtered.pivot_table('births', index='year',\n",
        "                             columns='sex', aggfunc='sum')\n",
        "table = table.div(table.sum(1), axis=0)\n",
        "table.tail()"
      ]
    },
    {
      "cell_type": "code",
      "execution_count": null,
      "metadata": {
        "id": "DsoEqiVCIeuu"
      },
      "outputs": [],
      "source": [
        "plt.close('all')"
      ]
    },
    {
      "cell_type": "code",
      "execution_count": null,
      "metadata": {
        "id": "Q_FDz0i6Ieuu"
      },
      "outputs": [],
      "source": [
        "table.plot(style={'M': 'k-', 'F': 'k--'})"
      ]
    }
  ],
  "metadata": {
    "kernelspec": {
      "display_name": "Python 2",
      "language": "python",
      "name": "python2"
    },
    "language_info": {
      "codemirror_mode": {
        "name": "ipython",
        "version": 2
      },
      "file_extension": ".py",
      "mimetype": "text/x-python",
      "name": "python",
      "nbconvert_exporter": "python",
      "pygments_lexer": "ipython2",
      "version": "2.7.10"
    },
    "colab": {
      "name": "ch02.ipynb",
      "provenance": [],
      "include_colab_link": true
    }
  },
  "nbformat": 4,
  "nbformat_minor": 0
}