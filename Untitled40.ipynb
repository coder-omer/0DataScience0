{
  "nbformat": 4,
  "nbformat_minor": 0,
  "metadata": {
    "colab": {
      "name": "Untitled40.ipynb",
      "provenance": [],
      "authorship_tag": "ABX9TyOP5upc3sUNUIx5XX7lKZNI",
      "include_colab_link": true
    },
    "kernelspec": {
      "name": "python3",
      "display_name": "Python 3"
    },
    "language_info": {
      "name": "python"
    }
  },
  "cells": [
    {
      "cell_type": "markdown",
      "metadata": {
        "id": "view-in-github",
        "colab_type": "text"
      },
      "source": [
        "<a href=\"https://colab.research.google.com/github/coder-omer/0DataScience0/blob/main/Untitled40.ipynb\" target=\"_parent\"><img src=\"https://colab.research.google.com/assets/colab-badge.svg\" alt=\"Open In Colab\"/></a>"
      ]
    },
    {
      "cell_type": "code",
      "execution_count": null,
      "metadata": {
        "colab": {
          "base_uri": "https://localhost:8080/"
        },
        "id": "wMUzS91AEYnb",
        "outputId": "e1172a60-f53a-4c5a-9daa-0e77530f9381"
      },
      "outputs": [
        {
          "output_type": "stream",
          "name": "stdout",
          "text": [
            "mean: 37.0\n",
            "median: 30.0\n",
            "mode: ModeResult(mode=array([33]), count=array([3]))\n"
          ]
        }
      ],
      "source": [
        "import numpy as np\n",
        "from scipy import stats\n",
        "\n",
        "salary = [102, 33, 26, 27, 30, 25, 33, 33, 24]\n",
        "\n",
        "mean_salary = np.mean(salary)\n",
        "print(\"mean:\", mean_salary)\n",
        "\n",
        "median_salary = np.median(salary)\n",
        "print(\"median:\", median_salary)\n",
        "\n",
        "mode_salary = stats.mode(salary)\n",
        "print(\"mode:\", mode_salary)\n"
      ]
    }
  ]
}